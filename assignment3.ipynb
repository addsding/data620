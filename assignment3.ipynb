{
 "cells": [
  {
   "attachments": {},
   "cell_type": "markdown",
   "metadata": {},
   "source": [
    "## Assignment 3\n",
    "\n",
    "### Alice Ding, Shoshana Farber, Christian Uriostegui\n",
    "\n",
    "This week's assignment is to:\n",
    "1. Load a graph database of your choosing from a text file or other source. If you take a\n",
    "large network dataset from the web (such as from https://snap.stanford.edu/data/), please\n",
    "feel free at this point to load just a small subset of the nodes and edges.\n",
    "2. Create basic analysis on the graph, including the graph’s diameter, and at least one other\n",
    "metric of your choosing. You may either code the functions by hand (to build your\n",
    "intuition and insight), or use functions in an existing package.\n",
    "3. Use a visualization tool of your choice (Neo4j, Gephi, etc.) to display information.\n",
    "\n",
    "\n",
    "For our dataset, we found a [Marvel Universe Social Network](https://www.kaggle.com/datasets/csanhueza/the-marvel-universe-social-network) dataset from Kaggle. We'll be using a subset of nodes and edges in order to complete this assignment."
   ]
  },
  {
   "cell_type": "code",
   "execution_count": 4,
   "metadata": {},
   "outputs": [],
   "source": [
    "# Step 1: Importing relevant packages and loading the data\n",
    "\n",
    "import numpy as np\n",
    "import pandas as pd \n",
    "import networkx as nx\n",
    "import matplotlib.pyplot as plt\n",
    "\n",
    "nodes = pd.read_csv('https://raw.githubusercontent.com/addsding/cuny-data620/main/assignment3/nodes.csv')\n",
    "edges = pd.read_csv('https://raw.githubusercontent.com/addsding/cuny-data620/main/assignment3/edges.csv')\n",
    "hero_network = pd.read_csv('https://raw.githubusercontent.com/addsding/cuny-data620/main/assignment3/hero-network.csv')"
   ]
  },
  {
   "cell_type": "code",
   "execution_count": 9,
   "metadata": {},
   "outputs": [
    {
     "name": "stdout",
     "output_type": "stream",
     "text": [
      "                       hero1                 hero2\n",
      "335668  SPIDER-MAN/PETER PAR        DRAKE, CARLTON\n",
      "242324  SPIDER-MAN/PETER PAR  SANDMAN DOPPELGANGER\n",
      "203526  SPIDER-MAN/PETER PAR        ROBERTSON, JOE\n",
      "203367  SPIDER-MAN/PETER PAR  TITANIA II/MARY SKEE\n",
      "54768   SPIDER-MAN/PETER PAR      CAESAR, JONATHAN\n"
     ]
    }
   ],
   "source": [
    "# Step 2: Filter down to a few heroes to subset the data; we'll look at Spiderman, Dr. Strange, and Iron Man\n",
    "\n",
    "spider_man = hero_network[hero_network['hero1']=='SPIDER-MAN/PETER PAR'].sample(50)\n",
    "dr_strange = hero_network[hero_network['hero1']=='DR. STRANGE/STEPHEN '].sample(50)\n",
    "iron_man = hero_network[hero_network['hero1'].str.contains('IRON MAN/TONY STARK')].sample(50)\n",
    "\n",
    "data = pd.concat([spider_man, dr_strange, iron_man], axis = 0)\n",
    "\n",
    "print(data.head())"
   ]
  },
  {
   "cell_type": "code",
   "execution_count": 19,
   "metadata": {},
   "outputs": [
    {
     "name": "stdout",
     "output_type": "stream",
     "text": [
      "Diameter =  3\n",
      "Center =  ['SPIDER-MAN/PETER PAR', 'MR. FANTASTIC/REED R', 'IRON MAN/TONY STARK ', 'DR. STRANGE/STEPHEN ']\n",
      "Eccentricity =  {'SPIDER-MAN/PETER PAR': 2, 'DRAKE, CARLTON': 3, 'SANDMAN DOPPELGANGER': 3, 'ROBERTSON, JOE': 3, 'TITANIA II/MARY SKEE': 3, 'CAESAR, JONATHAN': 3, 'GIDEON': 3, 'ANT-MAN II/SCOTT HAR': 3, 'STACY, CAPT. GEORGE': 3, \"SUPER SKRULL/KL'RT\": 3, 'ABOMINATION/EMIL BLO': 3, 'WATSON, ANNA': 3, 'MR. FANTASTIC/REED R': 2, 'MAGIK/ILLYANA RASPUT': 3, 'ROCKET RACER/ROBERT ': 3, 'HAWK': 3, 'ISAAC': 3, 'DAREDEVIL/MATT MURDO': 3, 'STORM/ORORO MUNROE S': 3, 'CHANG, DR. PHILLIP': 3, 'SNOW, TANDY': 3, 'PHOENIX III/RACHEL S': 3, 'PARKER, MAY': 3, 'DR. DOOM/VICTOR VON ': 3, 'WATSON-PARKER, MARY ': 3, 'JAMESON, J. JONAH': 3, 'WHITE RABBIT': 3, 'THING/BENJAMIN J. GR': 3, 'RICOCHET RITA': 3, 'MARITA': 3, 'GANNON, RICH': 3, 'PARKER, BEN': 3, 'STACY, GWEN (CLONE)': 3, 'TESSA': 3, 'CLEA': 3, 'AHAB/RORY CAMPBELL': 3, 'FU MANCHU': 3, 'CUSHING, KATE': 3, 'MAGNUM, MOSES': 3, 'MAGDALENE/MARISSA DA': 3, 'DARKSTAR/LAYNIA SERG': 3, 'JACKAL/MILES WARREN': 3, 'MACHINE MAN/X-51': 3, 'IRON MAN/TONY STARK ': 2, 'BUSHKIN, BARNEY': 3, 'STACY, GWEN': 3, 'HOWARD THE DUCK': 3, 'DR. STRANGE/STEPHEN ': 2, 'GAEA': 3, 'THOR/DR. DONALD BLAK': 3, 'SALOME': 3, 'HUMAN TORCH/JOHNNY S': 3, 'MOON KNIGHT DOPPELGA': 3, 'WONG': 3, 'WOLFE, SARA': 3, 'CAPTAIN BRITAIN/BRIA': 3, 'MARVEL GIRL/JEAN GRE': 3, 'PARIS': 3, 'HELA [ASGARDIAN]': 3, 'NORRISS, JACK': 3, 'DORMAMMU': 3, 'BLACK KNIGHT V STATU': 3, 'DR. DRUID/ANTHONY LU': 3, 'HUGO, CAPTAIN EDVARD': 3, 'BARON MORDO/KARL MOR': 3, 'RINTRAH': 3, 'DWELLER IN DARKNESS': 3, 'MARROW/SARAH ': 3, 'TOPAZ': 3, 'ANGEL/WARREN KENNETH': 3, 'MANSLAUGHTER': 3, 'HERCULES [GREEK GOD]': 3, 'ANT-MAN/DR. HENRY J.': 3, 'YANDROTH': 3, 'GUARDIAN/JAMES MACDO': 3, 'NIGHTHAWK/KYLE RICHM': 3, 'SATANNISH': 3, 'SASQUATCH/WALTER LAN': 3, 'SLAVINSKI, SALLY': 3, 'DAYTRIPPER/AMANDA SE': 3, 'SCATTERBRAIN': 3, 'MROTH': 3, 'ASTER, LUCIAN': 3, 'ARAGORN': 3, 'QUASAR III/WENDELL V': 3, 'RED GUARDIAN III/DR.': 3, 'ROSS, GEN. THADDEUS ': 3, 'NIGHTMARE/EDVARD HAB': 3, 'DEVIL-SLAYER/ERIC SI': 3, 'VISION ': 3, 'HUNCH': 3, 'MANN, DR. J. VERNON ': 3, 'ANTRO': 3, 'NIGHT THRASHER/DUANE': 3, 'SPYMASTER/JAKE JORDA': 3, 'MAN-BULL/BULL TAURUS': 3, 'ARBOGAST, BAMBI': 3, 'SCARLET WITCH/WANDA ': 3, 'BLACK KNIGHT V/DANE ': 3, 'SPIDER-WOMAN II/JULI': 3, 'USAGENT/CAPTAIN JOHN': 3, 'ROGUE /': 3, 'CAPTAIN AMERICA': 3, 'SONDHEIM, ERICA': 3, 'NIGHTHAWK II/KYLE RI': 3, 'QUICKSILVER/PIETRO M': 3, 'OBLIVION': 3, 'BLIZZARD II/DONALD G': 3, 'DARE, KATHLEEN': 3, 'MODOK/GEORGE TARLETO': 3, 'WARLOCK II/ADAM WARL': 3, 'WASP/JANET VAN DYNE ': 3, \"N'DELE\": 3, 'PAPA HAGG': 3, 'PEATOR': 3, 'DEATH': 3, 'JONES, RICHARD MILHO': 3, 'JARVIS, EDWIN ': 3, 'INVISIBLE WOMAN/SUE ': 3, 'HOGAN, HAROLD J. HAP': 3, 'RECORDER II': 3, 'SUB-MARINER/NAMOR MA': 3, 'ERWIN, CLYTEMNESTRA': 3, \"BLACK PANTHER/T'CHAL\": 3}\n"
     ]
    }
   ],
   "source": [
    "# Step 3: Basic graph analysis\n",
    "\n",
    "# We'll be looking at the diameter, center, and eccentricity\n",
    "\n",
    "# Diameter = maximum eccentricity\n",
    "# Center = the set of nodes with eccentricity equal to radius\n",
    "# Eccentricity = The eccentricity of a node v is the maximum distance from v to all other nodes in G\n",
    "\n",
    "G = nx.from_pandas_edgelist(data, 'hero1', 'hero2')\n",
    "diameter = nx.diameter(G)\n",
    "center = nx.center(G)\n",
    "eccentricity = nx.eccentricity(G)\n",
    "print('Diameter = ', diameter)\n",
    "print('Center = ', center)\n",
    "print('Eccentricity = ', eccentricity)"
   ]
  }
 ],
 "metadata": {
  "kernelspec": {
   "display_name": "base",
   "language": "python",
   "name": "python3"
  },
  "language_info": {
   "codemirror_mode": {
    "name": "ipython",
    "version": 3
   },
   "file_extension": ".py",
   "mimetype": "text/x-python",
   "name": "python",
   "nbconvert_exporter": "python",
   "pygments_lexer": "ipython3",
   "version": "3.10.9"
  },
  "orig_nbformat": 4,
  "vscode": {
   "interpreter": {
    "hash": "8938740c0a294b0bb463709b29f839994c0cf0da429cfc65f1491f488a740231"
   }
  }
 },
 "nbformat": 4,
 "nbformat_minor": 2
}
